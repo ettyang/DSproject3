{
 "cells": [
  {
   "cell_type": "markdown",
   "metadata": {
    "id": "HmSjSvSFypfv"
   },
   "source": [
    "# Import Dependencies"
   ]
  },
  {
   "cell_type": "code",
   "execution_count": null,
   "metadata": {
    "id": "Fl_BE1amimZI"
   },
   "outputs": [],
   "source": [
    "pip install ultralytics\n",
    "\n",
    "import torch\n",
    "import torchvision\n",
    "import torchvision.transforms as transforms\n",
    "import zipfile\n",
    "import os\n",
    "import hashlib\n",
    "import pandas as pd\n",
    "from PIL import Image\n",
    "import numpy as np\n",
    "import yaml\n",
    "import cv2\n",
    "import matplotlib.pyplot as plt\n",
    "from ultralytics import YOLO"
   ]
  },
  {
   "cell_type": "code",
   "execution_count": null,
   "metadata": {
    "colab": {
     "base_uri": "https://localhost:8080/",
     "height": 229
    },
    "executionInfo": {
     "elapsed": 21989,
     "status": "ok",
     "timestamp": 1745183385752,
     "user": {
      "displayName": "Emilie Yang",
      "userId": "14223239727926394867"
     },
     "user_tz": 240
    },
    "id": "ue_RyQi9Sgsd",
    "outputId": "a109aa76-bc9d-43b2-9803-55967cc95887"
   },
   "outputs": [],
   "source": [
    "trainset = torchvision.datasets.CIFAR10(root='./data',\n",
    "                                        train=True,\n",
    "                                        download=True,\n",
    "                                        transform=transforms.Compose([transforms.ToTensor(), transforms.Normalize((0.5, 0.5, 0.5), (0.5, 0.5, 0.5))]))\n",
    "trainloader = torch.utils.data.DataLoader(trainset,\n",
    "                                          batch_size=4,\n",
    "                                          shuffle=True)\n",
    "images, labels = next(iter(trainloader))\n",
    "plt.imshow(torchvision.utils.make_grid(images).permute(1, 2, 0) / 2 + 0.5);\n",
    "plt.title(' '.join(trainset.classes[label] for label in labels)); plt.show()"
   ]
  },
  {
   "cell_type": "markdown",
   "metadata": {
    "heading_collapsed": true,
    "id": "_rKAkja77vkI"
   },
   "source": [
    "#CLEAN DATA"
   ]
  },
  {
   "cell_type": "markdown",
   "metadata": {
    "hidden": true,
    "id": "EwL2obxKyt09"
   },
   "source": [
    "### Import dataset"
   ]
  },
  {
   "cell_type": "code",
   "execution_count": null,
   "metadata": {
    "colab": {
     "base_uri": "https://localhost:8080/"
    },
    "executionInfo": {
     "elapsed": 7520,
     "status": "ok",
     "timestamp": 1745183393279,
     "user": {
      "displayName": "Emilie Yang",
      "userId": "14223239727926394867"
     },
     "user_tz": 240
    },
    "hidden": true,
    "id": "SqlSDX6fi4D1",
    "outputId": "75d897d9-94fa-4e85-9e50-b96376c8dfd5"
   },
   "outputs": [],
   "source": [
    "!wget -O \"DeepFruits_Dataset.zip\" \"https://prod-dcd-datasets-cache-zipfiles.s3.eu-west-1.amazonaws.com/5prc54r4rt-1.zip\""
   ]
  },
  {
   "cell_type": "markdown",
   "metadata": {
    "hidden": true,
    "id": "9LyqyRuOy0bJ"
   },
   "source": [
    "### extract to development"
   ]
  },
  {
   "cell_type": "code",
   "execution_count": null,
   "metadata": {
    "colab": {
     "base_uri": "https://localhost:8080/"
    },
    "executionInfo": {
     "elapsed": 4498,
     "status": "ok",
     "timestamp": 1745183397780,
     "user": {
      "displayName": "Emilie Yang",
      "userId": "14223239727926394867"
     },
     "user_tz": 240
    },
    "hidden": true,
    "id": "mFJ3_DAKo2fc",
    "outputId": "c67aaf5b-a561-485f-8037-a5ef222795be"
   },
   "outputs": [],
   "source": [
    "with zipfile.ZipFile(\"/content/DeepFruits_Dataset.zip\", 'r') as zip_ref:\n",
    "    zip_ref.extractall('/content/deepfruits')\n",
    "\n",
    "print(\"Dataset has been extracted to '/content/deepfruits'\")\n"
   ]
  },
  {
   "cell_type": "code",
   "execution_count": null,
   "metadata": {
    "colab": {
     "base_uri": "https://localhost:8080/"
    },
    "executionInfo": {
     "elapsed": 14,
     "status": "ok",
     "timestamp": 1745183397797,
     "user": {
      "displayName": "Emilie Yang",
      "userId": "14223239727926394867"
     },
     "user_tz": 240
    },
    "hidden": true,
    "id": "dq-uQiB9pC4l",
    "outputId": "09e8bb9f-2f32-4246-b6ad-c142ffd6801f"
   },
   "outputs": [],
   "source": [
    "dataset_path = '/content/deepfruits'\n",
    "for root, dirs, files in os.walk(dataset_path):\n",
    "    level = root.replace(dataset_path, '').count(os.sep)\n",
    "    indent = ' ' * 2 * (level)\n",
    "    print(f\"{indent}{os.path.basename(root)}/\")\n",
    "    sub_indent = ' ' * 2 * (level + 1)\n",
    "    for f in files[:5]:  # Displaying only first 5 files in each directory for brevity\n",
    "        print(f\"{sub_indent}{f}\")\n"
   ]
  },
  {
   "cell_type": "code",
   "execution_count": null,
   "metadata": {
    "colab": {
     "base_uri": "https://localhost:8080/"
    },
    "executionInfo": {
     "elapsed": 491,
     "status": "ok",
     "timestamp": 1745183398292,
     "user": {
      "displayName": "Emilie Yang",
      "userId": "14223239727926394867"
     },
     "user_tz": 240
    },
    "hidden": true,
    "id": "8CFuWHyhml_y",
    "outputId": "6aa00c04-de58-49b7-e1cd-3027c72e8db4"
   },
   "outputs": [],
   "source": [
    "dataset_path = '/content/deepfruits/DeepFruits Dataset of Fruits Images with different combinations for Fruit Recognition and Calories Estimation/Fruits_Dataset_Test'\n",
    "\n",
    "# Define your label mapping\n",
    "label_map = {\n",
    "    \"1\": \"apple\",\n",
    "    \"2\": \"banana\",\n",
    "    \"3\": \"mango\",\n",
    "    \"4\": \"orange\",\n",
    "    \"5\": \"grapes\",\n",
    "    \"6\": \"guava\",\n",
    "    \"7\": \"lemon\",\n",
    "    \"8\": \"pomegranate\"\n",
    "}\n",
    "\n",
    "data = []\n",
    "\n",
    "for root, dirs, files in os.walk(dataset_path):\n",
    "    folder_name = os.path.basename(root).strip()\n",
    "    if folder_name not in label_map:\n",
    "        continue  # skip folders that aren't in the label map\n",
    "\n",
    "    for file in files:\n",
    "        if file.lower().endswith(('.jpg', '.jpeg', '.png')):\n",
    "            full_path = os.path.join(root, file)\n",
    "            label = label_map[folder_name]\n",
    "            data.append({'image_path': full_path, 'label': label})\n",
    "\n",
    "df = pd.DataFrame(data)\n",
    "print(df.head())\n"
   ]
  },
  {
   "cell_type": "markdown",
   "metadata": {
    "hidden": true,
    "id": "AyNV1VqMOLiQ"
   },
   "source": [
    "### Load in Test data"
   ]
  },
  {
   "cell_type": "code",
   "execution_count": null,
   "metadata": {
    "colab": {
     "base_uri": "https://localhost:8080/"
    },
    "executionInfo": {
     "elapsed": 3299,
     "status": "ok",
     "timestamp": 1745183401595,
     "user": {
      "displayName": "Emilie Yang",
      "userId": "14223239727926394867"
     },
     "user_tz": 240
    },
    "hidden": true,
    "id": "zYWbkyYEYq8h",
    "outputId": "84e9ed31-9241-4820-ba5f-7f5a6c551357"
   },
   "outputs": [],
   "source": [
    "dataset_path = '/content/deepfruits/DeepFruits Dataset of Fruits Images with different combinations for Fruit Recognition and Calories Estimation/Fruits_Dataset_Test'\n",
    "\n",
    "data = []\n",
    "\n",
    "for root, dirs, files in os.walk(dataset_path):\n",
    "    folder_name = os.path.basename(root)\n",
    "\n",
    "    if folder_name == os.path.basename(dataset_path):\n",
    "        continue\n",
    "\n",
    "    for file in files:\n",
    "        if file.lower().endswith(('.png', '.jpg', '.jpeg')):\n",
    "            image_path = os.path.join(root, file)\n",
    "            try:\n",
    "                img = Image.open(image_path).convert('RGB')\n",
    "                img_array = np.array(img)\n",
    "\n",
    "                # Append image data, label, and filename\n",
    "                data.append({\n",
    "                    'image': img_array,\n",
    "                    'label': folder_name,\n",
    "                    'filename': file\n",
    "                })\n",
    "            except Exception as e:\n",
    "                print(f\"Failed to load image: {image_path} — {e}\")\n",
    "\n",
    "# Create DataFrame\n",
    "df_test = pd.DataFrame(data)\n",
    "\n",
    "# Preview it\n",
    "print(df_test.head())\n",
    "print(f\"\\nLoaded {len(df_test)} images.\")\n"
   ]
  },
  {
   "cell_type": "code",
   "execution_count": null,
   "metadata": {
    "colab": {
     "base_uri": "https://localhost:8080/",
     "height": 206
    },
    "executionInfo": {
     "elapsed": 3665,
     "status": "ok",
     "timestamp": 1745183405264,
     "user": {
      "displayName": "Emilie Yang",
      "userId": "14223239727926394867"
     },
     "user_tz": 240
    },
    "hidden": true,
    "id": "IEUILu7SacU4",
    "outputId": "ca1eb873-e424-4564-a545-761d044711b8"
   },
   "outputs": [],
   "source": [
    "df_test.head()"
   ]
  },
  {
   "cell_type": "code",
   "execution_count": null,
   "metadata": {
    "colab": {
     "base_uri": "https://localhost:8080/",
     "height": 104
    },
    "executionInfo": {
     "elapsed": 15,
     "status": "ok",
     "timestamp": 1745183405287,
     "user": {
      "displayName": "Emilie Yang",
      "userId": "14223239727926394867"
     },
     "user_tz": 240
    },
    "hidden": true,
    "id": "MJWj_OrebBFe",
    "outputId": "dbc8e8fa-31a1-4654-d81b-43bd5e364468"
   },
   "outputs": [],
   "source": [
    "df_test['image'][0]"
   ]
  },
  {
   "cell_type": "markdown",
   "metadata": {
    "hidden": true,
    "id": "l7mJpo22OPpF"
   },
   "source": [
    "### Load Train data"
   ]
  },
  {
   "cell_type": "code",
   "execution_count": null,
   "metadata": {
    "colab": {
     "base_uri": "https://localhost:8080/"
    },
    "executionInfo": {
     "elapsed": 7610,
     "status": "ok",
     "timestamp": 1745183412901,
     "user": {
      "displayName": "Emilie Yang",
      "userId": "14223239727926394867"
     },
     "user_tz": 240
    },
    "hidden": true,
    "id": "3woPdKywbavb",
    "outputId": "26831c51-083a-4b5d-bdb8-0877d930b924"
   },
   "outputs": [],
   "source": [
    "dataset_path = '/content/deepfruits/DeepFruits Dataset of Fruits Images with different combinations for Fruit Recognition and Calories Estimation/Fruits_Dataset_Train'\n",
    "\n",
    "data = []\n",
    "\n",
    "for root, dirs, files in os.walk(dataset_path):\n",
    "    folder_name = os.path.basename(root)\n",
    "\n",
    "    if folder_name == os.path.basename(dataset_path):\n",
    "        continue\n",
    "\n",
    "    for file in files:\n",
    "        if file.lower().endswith(('.png', '.jpg', '.jpeg')):\n",
    "            image_path = os.path.join(root, file)\n",
    "            try:\n",
    "                img = Image.open(image_path).convert('RGB')\n",
    "                img_array = np.array(img)\n",
    "\n",
    "                # Add image, label (folder name), and filename\n",
    "                data.append({\n",
    "                    'image': img_array,\n",
    "                    'label': folder_name,\n",
    "                    'filename': file\n",
    "                })\n",
    "            except Exception as e:\n",
    "                print(f\"Failed to load image: {image_path} — {e}\")\n",
    "\n",
    "df_train = pd.DataFrame(data)\n",
    "\n",
    "# Show a preview\n",
    "print(df_train.head())\n",
    "print(f\"\\nLoaded {len(df_train)} images.\")\n"
   ]
  },
  {
   "cell_type": "code",
   "execution_count": null,
   "metadata": {
    "colab": {
     "base_uri": "https://localhost:8080/",
     "height": 104
    },
    "executionInfo": {
     "elapsed": 20,
     "status": "ok",
     "timestamp": 1745183412913,
     "user": {
      "displayName": "Emilie Yang",
      "userId": "14223239727926394867"
     },
     "user_tz": 240
    },
    "hidden": true,
    "id": "gmoiawtLblBa",
    "outputId": "62779f84-c6db-480e-f245-2e3423caec4f"
   },
   "outputs": [],
   "source": [
    "df_train['image'][0]"
   ]
  },
  {
   "cell_type": "markdown",
   "metadata": {
    "hidden": true,
    "id": "eQY8BOYczboB"
   },
   "source": [
    "### Import the Test labels and put in pandas df"
   ]
  },
  {
   "cell_type": "code",
   "execution_count": null,
   "metadata": {
    "colab": {
     "base_uri": "https://localhost:8080/",
     "height": 461
    },
    "executionInfo": {
     "elapsed": 16,
     "status": "ok",
     "timestamp": 1745183412931,
     "user": {
      "displayName": "Emilie Yang",
      "userId": "14223239727926394867"
     },
     "user_tz": 240
    },
    "hidden": true,
    "id": "d2SB7pUBb4pK",
    "outputId": "825f2ce4-2382-431c-c727-6122fa516535"
   },
   "outputs": [],
   "source": [
    "Labels_Test_df = pd.read_csv('/content/deepfruits/DeepFruits Dataset of Fruits Images with different combinations for Fruit Recognition and Calories Estimation/Labels_Test.csv')\n",
    "Labels_Test_df.rename(columns={'FileName': 'filename'}, inplace=True)\n",
    "# Display the first few rows of the DataFrame\n",
    "Labels_Test_df"
   ]
  },
  {
   "cell_type": "markdown",
   "metadata": {
    "hidden": true,
    "id": "1wJ9Tvnez87b"
   },
   "source": [
    "### Merge test dataframes on filename"
   ]
  },
  {
   "cell_type": "code",
   "execution_count": null,
   "metadata": {
    "colab": {
     "base_uri": "https://localhost:8080/"
    },
    "executionInfo": {
     "elapsed": 1661,
     "status": "ok",
     "timestamp": 1745183414596,
     "user": {
      "displayName": "Emilie Yang",
      "userId": "14223239727926394867"
     },
     "user_tz": 240
    },
    "hidden": true,
    "id": "xxgsuCYtS6ql",
    "outputId": "c12d4a25-69b0-46ef-e33f-5c78266dd541"
   },
   "outputs": [],
   "source": [
    "merged_test_df = pd.merge(df_test, Labels_Test_df, on='filename')\n",
    "print(merged_test_df.head())\n",
    "print(merged_test_df.shape)\n",
    "print(merged_test_df.isnull().sum())"
   ]
  },
  {
   "cell_type": "markdown",
   "metadata": {
    "hidden": true,
    "id": "J5Hyei3s0I7v"
   },
   "source": [
    "### import train labels and merge on filename"
   ]
  },
  {
   "cell_type": "code",
   "execution_count": null,
   "metadata": {
    "colab": {
     "base_uri": "https://localhost:8080/"
    },
    "executionInfo": {
     "elapsed": 1715,
     "status": "ok",
     "timestamp": 1745183416315,
     "user": {
      "displayName": "Emilie Yang",
      "userId": "14223239727926394867"
     },
     "user_tz": 240
    },
    "hidden": true,
    "id": "V4LCFigtUqL6",
    "outputId": "d5e3362c-bf2f-4056-cb14-f77b7f53c933"
   },
   "outputs": [],
   "source": [
    "Labels_Train_df=pd.read_csv('/content/deepfruits/DeepFruits Dataset of Fruits Images with different combinations for Fruit Recognition and Calories Estimation/Labels_Train.csv')\n",
    "Labels_Train_df.rename(columns={'FileName': 'filename'}, inplace=True)\n",
    "merged_train_df = pd.merge(df_train, Labels_Train_df, on='filename')\n",
    "print(merged_train_df.head())\n",
    "print(merged_train_df.shape)\n",
    "print(merged_train_df.isnull().sum())"
   ]
  },
  {
   "cell_type": "markdown",
   "metadata": {
    "heading_collapsed": true,
    "id": "T0jKo0cwPwyU"
   },
   "source": [
    "# EDA"
   ]
  },
  {
   "cell_type": "code",
   "execution_count": null,
   "metadata": {
    "colab": {
     "base_uri": "https://localhost:8080/"
    },
    "executionInfo": {
     "elapsed": 1252,
     "status": "ok",
     "timestamp": 1745215426531,
     "user": {
      "displayName": "Emilie Yang",
      "userId": "14223239727926394867"
     },
     "user_tz": 240
    },
    "hidden": true,
    "id": "-vYnqZb6Vx-i",
    "outputId": "b15ff5c0-d3fd-4358-c93d-6c6fc04b15a7"
   },
   "outputs": [],
   "source": [
    "fruit_columns = [\n",
    "    \"Mango\", \"Grape\", \"Plum\", \"Kiwi\", \"Pear\", \"Apple\", \"Orange\", \"Banana\",\n",
    "    \"Pomegranate\", \"Strawberry\", \"Pineapple\", \"Fig\", \"Peach\", \"Apricot\",\n",
    "    \"Avocado\", \"Summer Squash\", \"Lemon\", \"Lime\", \"Guava\", \"Raspberry\"\n",
    "]\n",
    "\n",
    "# Sum the counts for each fruit across all rows (images)\n",
    "fruit_totals = merged_train_df[fruit_columns].sum().sort_values(ascending=False)\n",
    "\n",
    "# Plot\n",
    "plt.figure(figsize=(12, 6))\n",
    "fruit_totals.plot(kind='bar', edgecolor='black')\n",
    "plt.title('Total Fruit Counts Across Training Set')\n",
    "plt.xlabel('Fruit Type')\n",
    "plt.ylabel('Total Count in Images')\n",
    "plt.xticks(rotation=45, ha='right')\n",
    "plt.grid(axis='y', linestyle='--', alpha=0.6)\n",
    "plt.tight_layout()\n",
    "plt.show()\n"
   ]
  },
  {
   "cell_type": "code",
   "execution_count": null,
   "metadata": {
    "colab": {
     "base_uri": "https://localhost:8080/"
    },
    "executionInfo": {
     "elapsed": 844,
     "status": "ok",
     "timestamp": 1745215427370,
     "user": {
      "displayName": "Emilie Yang",
      "userId": "14223239727926394867"
     },
     "user_tz": 240
    },
    "hidden": true,
    "id": "nTcU6fiGJVeq",
    "outputId": "7e8f2127-5b1f-467f-b50b-f3b7416941bd"
   },
   "outputs": [],
   "source": [
    "# Add image dimensions to DataFrame\n",
    "merged_train_df['height'] = merged_train_df['image'].apply(lambda img: img.shape[0])\n",
    "merged_train_df['width'] = merged_train_df['image'].apply(lambda img: img.shape[1])\n",
    "\n",
    "# Plot histograms\n",
    "plt.figure(figsize=(12, 5))\n",
    "plt.subplot(1, 2, 1)\n",
    "merged_train_df['height'].plot.hist(bins=30, color='skyblue', edgecolor='black')\n",
    "plt.title('Distribution of Image Heights')\n",
    "plt.xlabel('Pixels')\n",
    "\n",
    "plt.subplot(1, 2, 2)\n",
    "merged_train_df['width'].plot.hist(bins=30, color='salmon', edgecolor='black')\n",
    "plt.title('Distribution of Image Widths')\n",
    "plt.xlabel('Pixels')\n",
    "\n",
    "plt.tight_layout()\n",
    "plt.show()\n"
   ]
  },
  {
   "cell_type": "code",
   "execution_count": null,
   "metadata": {
    "colab": {
     "base_uri": "https://localhost:8080/"
    },
    "executionInfo": {
     "elapsed": 1108,
     "status": "ok",
     "timestamp": 1745215428480,
     "user": {
      "displayName": "Emilie Yang",
      "userId": "14223239727926394867"
     },
     "user_tz": 240
    },
    "hidden": true,
    "id": "ws4_zKzSJ0_O",
    "outputId": "1cb33eac-ab2c-4483-d2fa-327cdfe0e1f5"
   },
   "outputs": [],
   "source": [
    "# Function to hash image arrays\n",
    "def hash_img(img_array):\n",
    "    return hashlib.md5(img_array.tobytes()).hexdigest()\n",
    "\n",
    "# Add hash column\n",
    "merged_train_df['img_hash'] = merged_train_df['image'].apply(hash_img)\n",
    "\n",
    "# Count duplicates\n",
    "duplicate_counts = merged_train_df['img_hash'].value_counts()\n",
    "num_duplicates = sum(duplicate_counts > 1)\n",
    "\n",
    "print(f\"Found {num_duplicates} exact duplicate images.\")\n",
    "\n",
    "# Optional: show duplicate groups\n",
    "duplicates = merged_train_df[merged_train_df['img_hash'].isin(duplicate_counts[duplicate_counts > 1].index)]\n"
   ]
  },
  {
   "cell_type": "code",
   "execution_count": null,
   "metadata": {
    "colab": {
     "base_uri": "https://localhost:8080/"
    },
    "executionInfo": {
     "elapsed": 1527,
     "status": "ok",
     "timestamp": 1745215430025,
     "user": {
      "displayName": "Emilie Yang",
      "userId": "14223239727926394867"
     },
     "user_tz": 240
    },
    "hidden": true,
    "id": "oT1xMZdHJ7na",
    "outputId": "04461687-dac8-4092-dafd-1412e745be4f"
   },
   "outputs": [],
   "source": [
    "# Approximate brightness using grayscale average\n",
    "def brightness(img_array):\n",
    "    return np.mean(img_array)\n",
    "\n",
    "merged_train_df['brightness'] = merged_train_df['image'].apply(brightness)\n",
    "\n",
    "# Plot brightness distribution\n",
    "plt.figure(figsize=(7, 5))\n",
    "merged_train_df['brightness'].plot.hist(bins=50, edgecolor='black')\n",
    "plt.title('Image Brightness Distribution')\n",
    "plt.xlabel('Average Brightness')\n",
    "plt.grid(True, linestyle='--', alpha=0.6)\n",
    "plt.show()\n"
   ]
  },
  {
   "cell_type": "code",
   "execution_count": null,
   "metadata": {
    "colab": {
     "base_uri": "https://localhost:8080/"
    },
    "executionInfo": {
     "elapsed": 462,
     "status": "ok",
     "timestamp": 1745215430491,
     "user": {
      "displayName": "Emilie Yang",
      "userId": "14223239727926394867"
     },
     "user_tz": 240
    },
    "hidden": true,
    "id": "CesA_qKQKMaf",
    "outputId": "0d0c4ef4-d026-4dd9-8a11-9ae91072059d"
   },
   "outputs": [],
   "source": [
    "# Sort by brightness and show extremes\n",
    "\n",
    "darkest_imgs = merged_train_df.nsmallest(5, 'brightness')\n",
    "brightest_imgs = merged_train_df.nlargest(5, 'brightness')\n",
    "\n",
    "def show_images(df_subset, title):\n",
    "    plt.figure(figsize=(15, 3))\n",
    "    for i, img_array in enumerate(df_subset['image']):\n",
    "        plt.subplot(1, 5, i + 1)\n",
    "        plt.imshow(img_array)\n",
    "        plt.axis('off')\n",
    "    plt.suptitle(title)\n",
    "    plt.show()\n",
    "\n",
    "show_images(darkest_imgs, \"Darkest Images\")\n",
    "show_images(brightest_imgs, \"Brightest Images\")\n"
   ]
  },
  {
   "cell_type": "code",
   "execution_count": null,
   "metadata": {
    "colab": {
     "base_uri": "https://localhost:8080/"
    },
    "executionInfo": {
     "elapsed": 1227,
     "status": "ok",
     "timestamp": 1745215431722,
     "user": {
      "displayName": "Emilie Yang",
      "userId": "14223239727926394867"
     },
     "user_tz": 240
    },
    "hidden": true,
    "id": "csOv-Q_BDA3T",
    "outputId": "fb2f3f69-cc75-4ea6-90f9-32ffbf4e548a"
   },
   "outputs": [],
   "source": [
    "# Find total number of fruits in each picture\n",
    "cols_to_sum = [\"Mango\", \"Grape\", \"Plum\", \"Kiwi\", \"Pear\", \"Apple\", \"Orange\", \"Banana\",\n",
    "    \"Pomegranate\", \"Strawberry\", \"Pineapple\", \"Fig\", \"Peach\", \"Apricot\",\n",
    "    \"Avocado\", \"Summer Squash\", \"Lemon\", \"Lime\", \"Guava\", \"Raspberry\"]\n",
    "\n",
    "merged_train_df['row_sum'] = merged_train_df[cols_to_sum].sum(axis=1)\n",
    "\n",
    "merged_train_df['row_sum'].hist()\n",
    "plt.title('Distribution of Total Number of Fruits in Each Image')\n",
    "plt.xlabel('Sum Fruits')\n",
    "plt.ylabel('Frequency')\n",
    "plt.show()\n",
    "\n",
    "merged_train_df = merged_train_df.drop('row_sum', axis=1)"
   ]
  },
  {
   "cell_type": "markdown",
   "metadata": {
    "id": "NlvMgasEUK5e"
   },
   "source": [
    "#YOLO"
   ]
  },
  {
   "cell_type": "code",
   "execution_count": null,
   "metadata": {
    "colab": {
     "base_uri": "https://localhost:8080/"
    },
    "executionInfo": {
     "elapsed": 51,
     "status": "ok",
     "timestamp": 1745215586284,
     "user": {
      "displayName": "Emilie Yang",
      "userId": "14223239727926394867"
     },
     "user_tz": 240
    },
    "id": "mhLtsdGMbHF_",
    "outputId": "552b210f-008f-4d5c-ca1a-c154418af919"
   },
   "outputs": [],
   "source": [
    "#Make YAML\n",
    "fruits_yaml = {\n",
    "    'path': '/content/deepfruits/dataset',\n",
    "    'train': 'images/train',\n",
    "    'val': 'images/test',\n",
    "    'names': {\n",
    "        0: 'Apple',\n",
    "        1: 'Banana',\n",
    "        2: 'Orange',\n",
    "        3: 'Grape'\n",
    "    }\n",
    "}\n",
    "\n",
    "with open('/content/deepfruits/fruits.yaml', 'w') as f:\n",
    "    yaml.dump(fruits_yaml, f)\n",
    "\n",
    "print(\"✅ Capitalized fruits.yaml created!\")"
   ]
  },
  {
   "cell_type": "code",
   "execution_count": null,
   "metadata": {
    "id": "Q8J8jI4aVfb8"
   },
   "outputs": [],
   "source": [
    "target_classes = ['Apple', 'Banana', 'Orange', 'Grape']\n",
    "class_to_id = {fruit: idx for idx, fruit in enumerate(target_classes)}"
   ]
  },
  {
   "cell_type": "code",
   "execution_count": null,
   "metadata": {
    "id": "lk0_sF0jXAtP"
   },
   "outputs": [],
   "source": [
    "# TRAIN FOLDER\n",
    "# Paths to save labels and images\n",
    "img_save_dir = '/content/deepfruits/dataset/images/train'\n",
    "label_save_dir = '/content/deepfruits/dataset/labels/train'\n",
    "os.makedirs(img_save_dir, exist_ok=True)\n",
    "os.makedirs(label_save_dir, exist_ok=True)\n",
    "\n",
    "# Function to create random bounding boxes\n",
    "def create_random_boxes(count, img_w, img_h):\n",
    "    boxes = []\n",
    "    for _ in range(count):\n",
    "        w = np.random.uniform(0.1, 0.3) * img_w\n",
    "        h = np.random.uniform(0.1, 0.3) * img_h\n",
    "        x = np.random.uniform(0, img_w - w)\n",
    "        y = np.random.uniform(0, img_h - h)\n",
    "\n",
    "        # Normalize\n",
    "        x_center = (x + w / 2) / img_w\n",
    "        y_center = (y + h / 2) / img_h\n",
    "        w_norm = w / img_w\n",
    "        h_norm = h / img_h\n",
    "        boxes.append((x_center, y_center, w_norm, h_norm))\n",
    "    return boxes\n",
    "\n",
    "# Create YOLO label files\n",
    "for idx, row in merged_train_df.iterrows():\n",
    "    img_array = row['image']\n",
    "    filename = row['filename']\n",
    "    image_path = os.path.join(img_save_dir, filename)\n",
    "\n",
    "    # Save image to disk\n",
    "    img_bgr = cv2.cvtColor(img_array, cv2.COLOR_RGB2BGR)\n",
    "    cv2.imwrite(image_path, img_bgr)\n",
    "\n",
    "    h, w, _ = img_array.shape\n",
    "    yolo_lines = []\n",
    "\n",
    "    for fruit in target_classes:\n",
    "        count = int(row.get(fruit, 0))\n",
    "        boxes = create_random_boxes(count, w, h)\n",
    "        for box in boxes:\n",
    "            line = f\"{class_to_id[fruit]} {box[0]:.6f} {box[1]:.6f} {box[2]:.6f} {box[3]:.6f}\"\n",
    "            yolo_lines.append(line)\n",
    "\n",
    "    # Write YOLO label file\n",
    "    label_filename = os.path.splitext(filename)[0] + '.txt'\n",
    "    with open(os.path.join(label_save_dir, label_filename), 'w') as f:\n",
    "        f.write('\\n'.join(yolo_lines))"
   ]
  },
  {
   "cell_type": "code",
   "execution_count": null,
   "metadata": {
    "id": "sXyXFga1YDss"
   },
   "outputs": [],
   "source": [
    "# TEST FOLDER\n",
    "# Paths to save labels and images\n",
    "img_save_dir = '/content/deepfruits/dataset/images/test'\n",
    "label_save_dir = '/content/deepfruits/dataset/labels/test'\n",
    "os.makedirs(img_save_dir, exist_ok=True)\n",
    "os.makedirs(label_save_dir, exist_ok=True)\n",
    "\n",
    "# Function to create random bounding boxes\n",
    "def create_random_boxes(count, img_w, img_h):\n",
    "    boxes = []\n",
    "    for _ in range(count):\n",
    "        w = np.random.uniform(0.1, 0.3) * img_w\n",
    "        h = np.random.uniform(0.1, 0.3) * img_h\n",
    "        x = np.random.uniform(0, img_w - w)\n",
    "        y = np.random.uniform(0, img_h - h)\n",
    "\n",
    "        # Normalize\n",
    "        x_center = (x + w / 2) / img_w\n",
    "        y_center = (y + h / 2) / img_h\n",
    "        w_norm = w / img_w\n",
    "        h_norm = h / img_h\n",
    "        boxes.append((x_center, y_center, w_norm, h_norm))\n",
    "    return boxes\n",
    "\n",
    "# Create YOLO label files\n",
    "for idx, row in merged_test_df.iterrows():\n",
    "    img_array = row['image']\n",
    "    filename = row['filename']\n",
    "    image_path = os.path.join(img_save_dir, filename)\n",
    "\n",
    "    # Save image to disk\n",
    "    img_bgr = cv2.cvtColor(img_array, cv2.COLOR_RGB2BGR)\n",
    "    cv2.imwrite(image_path, img_bgr)\n",
    "\n",
    "    h, w, _ = img_array.shape\n",
    "    yolo_lines = []\n",
    "\n",
    "    for fruit in target_classes:\n",
    "        count = int(row.get(fruit, 0))\n",
    "        boxes = create_random_boxes(count, w, h)\n",
    "        for box in boxes:\n",
    "            line = f\"{class_to_id[fruit]} {box[0]:.6f} {box[1]:.6f} {box[2]:.6f} {box[3]:.6f}\"\n",
    "            yolo_lines.append(line)\n",
    "\n",
    "    # Write YOLO label file\n",
    "    label_filename = os.path.splitext(filename)[0] + '.txt'\n",
    "    with open(os.path.join(label_save_dir, label_filename), 'w') as f:\n",
    "        f.write('\\n'.join(yolo_lines))"
   ]
  },
  {
   "cell_type": "markdown",
   "metadata": {
    "id": "DCAR1zWusBQ2"
   },
   "source": [
    "CHECK previous work"
   ]
  },
  {
   "cell_type": "code",
   "execution_count": null,
   "metadata": {
    "colab": {
     "base_uri": "https://localhost:8080/"
    },
    "executionInfo": {
     "elapsed": 53,
     "status": "ok",
     "timestamp": 1745215659389,
     "user": {
      "displayName": "Emilie Yang",
      "userId": "14223239727926394867"
     },
     "user_tz": 240
    },
    "id": "FSgvyeF3sBAK",
    "outputId": "d8c6c306-b930-4ffe-d317-a6b7253c398e"
   },
   "outputs": [],
   "source": [
    "# Example: show one annotation file\n",
    "label_path ='/content/deepfruits/dataset/labels/test/20190106_072818.txt'\n",
    "with open(label_path, 'r') as f:\n",
    "    print(f.read())"
   ]
  },
  {
   "cell_type": "code",
   "execution_count": null,
   "metadata": {
    "colab": {
     "base_uri": "https://localhost:8080/",
     "height": 675
    },
    "executionInfo": {
     "elapsed": 90,
     "status": "ok",
     "timestamp": 1745215661236,
     "user": {
      "displayName": "Emilie Yang",
      "userId": "14223239727926394867"
     },
     "user_tz": 240
    },
    "id": "Ml8BRCWHwB66",
    "outputId": "bf23d981-75cb-48a9-cedf-2d3ec7cd1c98"
   },
   "outputs": [],
   "source": [
    "# Define class names\n",
    "class_names = ['apple', 'banana', 'orange', 'grape']\n",
    "\n",
    "# Example: visualize one image and its labels\n",
    "image_dir = '/content/deepfruits/dataset/images/train'\n",
    "label_dir = '/content/deepfruits/dataset/labels/train'\n",
    "\n",
    "example_filename = 'IMG_123.jpg'  # Replace with a real filename\n",
    "\n",
    "image_path = os.path.join(image_dir, example_filename)\n",
    "label_path = os.path.join(label_dir, example_filename.replace('.jpg', '.txt'))\n",
    "\n",
    "# Load image\n",
    "img = cv2.imread(image_path)\n",
    "img = cv2.cvtColor(img, cv2.COLOR_BGR2RGB)\n",
    "h, w, _ = img.shape\n",
    "\n",
    "# Plot bounding boxes\n",
    "if os.path.exists(label_path):\n",
    "    with open(label_path, 'r') as f:\n",
    "        for line in f.readlines():\n",
    "            cls_id, xc, yc, bw, bh = map(float, line.strip().split())\n",
    "            # Convert to pixel coordinates\n",
    "            x1 = int((xc - bw / 2) * w)\n",
    "            y1 = int((yc - bh / 2) * h)\n",
    "            x2 = int((xc + bw / 2) * w)\n",
    "            y2 = int((yc + bh / 2) * h)\n",
    "\n",
    "            color = (255, 0, 0)\n",
    "            label = class_names[int(cls_id)]\n",
    "            cv2.rectangle(img, (x1, y1), (x2, y2), color, 2)\n",
    "            cv2.putText(img, label, (x1, y1 - 5), cv2.FONT_HERSHEY_SIMPLEX, 0.6, color, 2)\n",
    "\n",
    "# Show image with boxes\n",
    "plt.figure(figsize=(8, 8))\n",
    "plt.imshow(img)\n",
    "plt.axis('off')\n",
    "plt.title(example_filename)\n",
    "plt.show()\n"
   ]
  },
  {
   "cell_type": "markdown",
   "metadata": {},
   "source": [
    "Train model (determine epoch and amount of images used for training)"
   ]
  },
  {
   "cell_type": "code",
   "execution_count": null,
   "metadata": {
    "colab": {
     "base_uri": "https://localhost:8080/"
    },
    "executionInfo": {
     "elapsed": 8617576,
     "status": "ok",
     "timestamp": 1745224406472,
     "user": {
      "displayName": "Emilie Yang",
      "userId": "14223239727926394867"
     },
     "user_tz": 240
    },
    "id": "Adnsu1t49pYF",
    "outputId": "ade03084-bdfa-40b7-c7bf-97a53c6afafb"
   },
   "outputs": [],
   "source": [
    "model = YOLO('yolov8n.pt')\n",
    "\n",
    "model.train(data='/content/deepfruits/fruits.yaml', epochs=100, imgsz=416, batch=6,fraction=0.35)"
   ]
  },
  {
   "cell_type": "markdown",
   "metadata": {},
   "source": [
    "Test model"
   ]
  },
  {
   "cell_type": "code",
   "execution_count": null,
   "metadata": {
    "colab": {
     "base_uri": "https://localhost:8080/",
     "output_embedded_package_id": "1QGWDIusUFua9HUn7JhEMj0_BJXtal39g"
    },
    "executionInfo": {
     "elapsed": 529913,
     "status": "ok",
     "timestamp": 1745226321038,
     "user": {
      "displayName": "Emilie Yang",
      "userId": "14223239727926394867"
     },
     "user_tz": 240
    },
    "id": "IP3qAZYHYWGz",
    "outputId": "9de1d2df-f242-4fa5-9aa6-23123807bab6"
   },
   "outputs": [],
   "source": [
    "model.predict(\n",
    "    source='/content/deepfruits/dataset/images/test',\n",
    "    classes=[0, 1, 2, 3],\n",
    "    save=True,\n",
    "    conf=0.25\n",
    ")"
   ]
  },
  {
   "cell_type": "code",
   "execution_count": null,
   "metadata": {
    "colab": {
     "base_uri": "https://localhost:8080/"
    },
    "executionInfo": {
     "elapsed": 516664,
     "status": "ok",
     "timestamp": 1745230889054,
     "user": {
      "displayName": "Emilie Yang",
      "userId": "14223239727926394867"
     },
     "user_tz": 240
    },
    "id": "tzY4sj1a1ckc",
    "outputId": "fc3fc21d-d6b6-4bcb-e5e9-9f47878a8006"
   },
   "outputs": [],
   "source": [
    "metrics = model.val(data='/content/deepfruits/fruits.yaml')"
   ]
  },
  {
   "cell_type": "markdown",
   "metadata": {},
   "source": [
    "Statistical testing- mAP"
   ]
  },
  {
   "cell_type": "code",
   "execution_count": null,
   "metadata": {
    "colab": {
     "base_uri": "https://localhost:8080/"
    },
    "executionInfo": {
     "elapsed": 30,
     "status": "ok",
     "timestamp": 1745230961614,
     "user": {
      "displayName": "Emilie Yang",
      "userId": "14223239727926394867"
     },
     "user_tz": 240
    },
    "id": "C6fgA_4q3sZ1",
    "outputId": "b29d88b3-a04a-4b2d-9cfc-f6ffed67a5d7"
   },
   "outputs": [],
   "source": [
    "print(f\"📊 mAP@0.5: {metrics.box.map50:.3f}\")\n",
    "print(f\"📈 mAP@0.5:0.95: {metrics.box.map:.3f}\")\n",
    "\n"
   ]
  },
  {
   "cell_type": "code",
   "execution_count": null,
   "metadata": {
    "colab": {
     "base_uri": "https://localhost:8080/",
     "height": 104
    },
    "executionInfo": {
     "elapsed": 39,
     "status": "ok",
     "timestamp": 1745231190454,
     "user": {
      "displayName": "Emilie Yang",
      "userId": "14223239727926394867"
     },
     "user_tz": 240
    },
    "id": "LtZiDb0B4dap",
    "outputId": "4458ba28-ae18-45ac-fc63-2e1bf49ae3fb"
   },
   "outputs": [],
   "source": [
    "def show_yolo_labels(image_path, label_path, class_names):\n",
    "    img = cv2.imread(image_path)\n",
    "    h, w = img.shape[:2]\n",
    "\n",
    "    with open(label_path, 'r') as f:\n",
    "        for line in f.readlines():\n",
    "            cls, x, y, bw, bh = map(float, line.strip().split())\n",
    "            x1 = int((x - bw/2) * w)\n",
    "            y1 = int((y - bh/2) * h)\n",
    "            x2 = int((x + bw/2) * w)\n",
    "            y2 = int((y + bh/2) * h)\n",
    "            cv2.rectangle(img, (x1, y1), (x2, y2), (0,255,0), 2)\n",
    "            cv2.putText(img, class_names[int(cls)], (x1, y1-10), cv2.FONT_HERSHEY_SIMPLEX, 0.6, (0,255,0), 2)\n",
    "\n",
    "    img_rgb = cv2.cvtColor(img, cv2.COLOR_BGR2RGB)\n",
    "    plt.imshow(img_rgb)\n",
    "    plt.axis('off')\n",
    "    plt.show()\n"
   ]
  }
 ],
 "metadata": {
  "colab": {
   "collapsed_sections": [
    "l7mJpo22OPpF",
    "eQY8BOYczboB"
   ],
   "provenance": []
  },
  "kernelspec": {
   "display_name": "Python 3 (ipykernel)",
   "language": "python",
   "name": "python3"
  },
  "language_info": {
   "codemirror_mode": {
    "name": "ipython",
    "version": 3
   },
   "file_extension": ".py",
   "mimetype": "text/x-python",
   "name": "python",
   "nbconvert_exporter": "python",
   "pygments_lexer": "ipython3",
   "version": "3.9.16"
  }
 },
 "nbformat": 4,
 "nbformat_minor": 1
}
